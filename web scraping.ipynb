{
 "cells": [
  {
   "cell_type": "code",
   "execution_count": 17,
   "id": "fb1330ef",
   "metadata": {},
   "outputs": [],
   "source": [
    "from bs4 import BeautifulSoup\n",
    "import requests\n",
    "from csv import writer"
   ]
  },
  {
   "cell_type": "code",
   "execution_count": 5,
   "id": "15d1f4b1",
   "metadata": {},
   "outputs": [],
   "source": [
    "url='https://www.pararius.com/appartements/amsterdam'\n",
    "page = requests.get(url)"
   ]
  },
  {
   "cell_type": "code",
   "execution_count": 18,
   "id": "46c4bfec",
   "metadata": {},
   "outputs": [],
   "source": [
    "# create an object using  BeautifulSoup that have in arguement the content of the page and the type of the page (html)\n",
    "soup = BeautifulSoup(page.content, 'html.parser')\n",
    "# search for all 'section' tags that have a class with name is 'listing-search-item'\n",
    "lists = soup.find_all('section',class_='listing-search-item')\n",
    "# open a file csv for writing in it .\n",
    "with open('scraperHousing.csv','w', encoding='utf8', newline='') as f:\n",
    "    thewriter = writer(f)\n",
    "    #     names of columns\n",
    "    header = ['Title', 'Location', 'Price', 'Area'] \n",
    "    # write the header of the file.\n",
    "    thewriter.writerow(header)\n",
    "    # looping on list of items\n",
    "    for list in lists:\n",
    "       # read the content of a specific tag and put it in a variable.          \n",
    "        title = list.find('a',class_='listing-search-item__link--title').text.replace('\\n','')\n",
    "        location = list.find('div',class_='listing-search-item__location').text.replace('\\n','')\n",
    "        price = list.find('div',class_='listing-search-item__price').text.replace('\\n','').replace(u'\\u202f', '').replace('\\xa0','')\n",
    "        area = list.find('li',class_='illustrated-features__item--surface-area').text.replace('\\n','')\n",
    "        # put all these variables in an array.\n",
    "        info = [title, location, price, area]\n",
    "        # write a new row inside of our file (scraperHousing.csv)         \n",
    "        thewriter.writerow(info)\n"
   ]
  }
 ],
 "metadata": {
  "kernelspec": {
   "display_name": "Python 3 (ipykernel)",
   "language": "python",
   "name": "python3"
  },
  "language_info": {
   "codemirror_mode": {
    "name": "ipython",
    "version": 3
   },
   "file_extension": ".py",
   "mimetype": "text/x-python",
   "name": "python",
   "nbconvert_exporter": "python",
   "pygments_lexer": "ipython3",
   "version": "3.9.7"
  }
 },
 "nbformat": 4,
 "nbformat_minor": 5
}
